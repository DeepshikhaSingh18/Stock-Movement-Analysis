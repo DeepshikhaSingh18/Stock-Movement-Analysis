{
 "cells": [
  {
   "cell_type": "code",
   "execution_count": 2,
   "metadata": {},
   "outputs": [],
   "source": [
    "import json\n",
    "from datetime import datetime\n",
    "import requests\n",
    "from bs4 import BeautifulSoup\n",
    "from dotenv import load_dotenv\n",
    "load_dotenv()\n",
    "import os\n",
    "import praw\n",
    "import pandas as pd\n"
   ]
  },
  {
   "cell_type": "code",
   "execution_count": 3,
   "metadata": {},
   "outputs": [
    {
     "name": "stdout",
     "output_type": "stream",
     "text": [
      "Scraping data from r/stocks...\n",
      "Scraping complete! Data saved to reddit_stocks_data.csv.\n"
     ]
    }
   ],
   "source": [
    "import praw\n",
    "import pandas as pd\n",
    "\n",
    "# Configure Reddit API credentials\n",
    "reddit = praw.Reddit(\n",
    "    client_id=\"1NXEdgwQdxth3R1--kczsA\",         # Replace with your client_id\n",
    "    client_secret=\"TCRwQ5olTeV5TlAblY6oDLEn-PkWfA\", # Replace with your client_secret\n",
    "    user_agent=\"MyScraper v1.0 by /u/financialdata\"        # Replace with your user_agent\n",
    ")\n",
    "\n",
    "# Define the subreddit and data collection parameters\n",
    "subreddit = reddit.subreddit(\"stocks\")\n",
    "post_limit = 50000  # Number of posts to fetch\n",
    "\n",
    "# Initialize a list to hold the data\n",
    "data = []\n",
    "\n",
    "# Scrape posts\n",
    "print(\"Scraping data from r/stocks...\")\n",
    "for post in subreddit.hot(limit=post_limit):  # Use 'hot', 'new', or 'top' as needed\n",
    "    data.append({\n",
    "        \"Post ID\": post.id,\n",
    "        \"Title\": post.title,\n",
    "        \"Score\": post.score,\n",
    "        \"Upvote Ratio\": post.upvote_ratio,\n",
    "        \"Number of Comments\": post.num_comments,\n",
    "        \"Created At\": post.created_utc,  # UTC timestamp\n",
    "        \"Author\": post.author.name if post.author else \"Deleted\",\n",
    "        \"Post URL\": post.url,\n",
    "        \"Content\": post.selftext  # The post body (text content)\n",
    "    })\n",
    "\n",
    "# Convert data to a pandas DataFrame\n",
    "df = pd.DataFrame(data)\n",
    "\n",
    "# Save data to a CSV file\n",
    "csv_file = \"reddit_stocks_data.csv\"\n",
    "df.to_csv(csv_file, index=False)\n",
    "\n",
    "print(f\"Scraping complete! Data saved to {csv_file}.\")\n"
   ]
  },
  {
   "cell_type": "code",
   "execution_count": 12,
   "metadata": {},
   "outputs": [
    {
     "data": {
      "text/html": [
       "<div>\n",
       "<style scoped>\n",
       "    .dataframe tbody tr th:only-of-type {\n",
       "        vertical-align: middle;\n",
       "    }\n",
       "\n",
       "    .dataframe tbody tr th {\n",
       "        vertical-align: top;\n",
       "    }\n",
       "\n",
       "    .dataframe thead th {\n",
       "        text-align: right;\n",
       "    }\n",
       "</style>\n",
       "<table border=\"1\" class=\"dataframe\">\n",
       "  <thead>\n",
       "    <tr style=\"text-align: right;\">\n",
       "      <th></th>\n",
       "      <th>Post ID</th>\n",
       "      <th>Title</th>\n",
       "      <th>Score</th>\n",
       "      <th>Upvote Ratio</th>\n",
       "      <th>Number of Comments</th>\n",
       "      <th>Created At</th>\n",
       "      <th>Author</th>\n",
       "      <th>Post URL</th>\n",
       "      <th>Content</th>\n",
       "    </tr>\n",
       "  </thead>\n",
       "  <tbody>\n",
       "    <tr>\n",
       "      <th>0</th>\n",
       "      <td>1grtfyq</td>\n",
       "      <td>r/Stocks Daily Discussion &amp; Fundamentals Frida...</td>\n",
       "      <td>25</td>\n",
       "      <td>0.94</td>\n",
       "      <td>477</td>\n",
       "      <td>1.731667e+09</td>\n",
       "      <td>AutoModerator</td>\n",
       "      <td>https://www.reddit.com/r/stocks/comments/1grtf...</td>\n",
       "      <td>This is the daily discussion, so anything stoc...</td>\n",
       "    </tr>\n",
       "    <tr>\n",
       "      <th>1</th>\n",
       "      <td>1h39vdi</td>\n",
       "      <td>/r/Stocks Weekend Discussion Saturday - Nov 30...</td>\n",
       "      <td>2</td>\n",
       "      <td>1.00</td>\n",
       "      <td>9</td>\n",
       "      <td>1.732963e+09</td>\n",
       "      <td>AutoModerator</td>\n",
       "      <td>https://www.reddit.com/r/stocks/comments/1h39v...</td>\n",
       "      <td>This is the weekend edition of our stickied di...</td>\n",
       "    </tr>\n",
       "    <tr>\n",
       "      <th>2</th>\n",
       "      <td>1h3465k</td>\n",
       "      <td>Do you think Rivian would make it to $100 a sh...</td>\n",
       "      <td>67</td>\n",
       "      <td>0.60</td>\n",
       "      <td>258</td>\n",
       "      <td>1.732940e+09</td>\n",
       "      <td>CoolTomatoh</td>\n",
       "      <td>https://www.reddit.com/r/stocks/comments/1h346...</td>\n",
       "      <td>With talks of Rivian saving VW, California kee...</td>\n",
       "    </tr>\n",
       "    <tr>\n",
       "      <th>3</th>\n",
       "      <td>1h2roez</td>\n",
       "      <td>23-Hour Party People: U.S. stocks may soon tra...</td>\n",
       "      <td>407</td>\n",
       "      <td>0.92</td>\n",
       "      <td>162</td>\n",
       "      <td>1.732903e+09</td>\n",
       "      <td>DecisionNo1902</td>\n",
       "      <td>https://www.reddit.com/r/stocks/comments/1h2ro...</td>\n",
       "      <td>**23-Hour Party People:**  \\n**U.S. stocks may...</td>\n",
       "    </tr>\n",
       "    <tr>\n",
       "      <th>4</th>\n",
       "      <td>1h2nht8</td>\n",
       "      <td>Thoughts on buying BRB.K this month instead of...</td>\n",
       "      <td>56</td>\n",
       "      <td>0.80</td>\n",
       "      <td>51</td>\n",
       "      <td>1.732892e+09</td>\n",
       "      <td>Life-Ambition1432</td>\n",
       "      <td>https://www.reddit.com/r/stocks/comments/1h2nh...</td>\n",
       "      <td>Does anyone have any thoughts on buying BRB.K ...</td>\n",
       "    </tr>\n",
       "  </tbody>\n",
       "</table>\n",
       "</div>"
      ],
      "text/plain": [
       "   Post ID                                              Title  Score  \\\n",
       "0  1grtfyq  r/Stocks Daily Discussion & Fundamentals Frida...     25   \n",
       "1  1h39vdi  /r/Stocks Weekend Discussion Saturday - Nov 30...      2   \n",
       "2  1h3465k  Do you think Rivian would make it to $100 a sh...     67   \n",
       "3  1h2roez  23-Hour Party People: U.S. stocks may soon tra...    407   \n",
       "4  1h2nht8  Thoughts on buying BRB.K this month instead of...     56   \n",
       "\n",
       "   Upvote Ratio  Number of Comments    Created At             Author  \\\n",
       "0          0.94                 477  1.731667e+09      AutoModerator   \n",
       "1          1.00                   9  1.732963e+09      AutoModerator   \n",
       "2          0.60                 258  1.732940e+09        CoolTomatoh   \n",
       "3          0.92                 162  1.732903e+09     DecisionNo1902   \n",
       "4          0.80                  51  1.732892e+09  Life-Ambition1432   \n",
       "\n",
       "                                            Post URL  \\\n",
       "0  https://www.reddit.com/r/stocks/comments/1grtf...   \n",
       "1  https://www.reddit.com/r/stocks/comments/1h39v...   \n",
       "2  https://www.reddit.com/r/stocks/comments/1h346...   \n",
       "3  https://www.reddit.com/r/stocks/comments/1h2ro...   \n",
       "4  https://www.reddit.com/r/stocks/comments/1h2nh...   \n",
       "\n",
       "                                             Content  \n",
       "0  This is the daily discussion, so anything stoc...  \n",
       "1  This is the weekend edition of our stickied di...  \n",
       "2  With talks of Rivian saving VW, California kee...  \n",
       "3  **23-Hour Party People:**  \\n**U.S. stocks may...  \n",
       "4  Does anyone have any thoughts on buying BRB.K ...  "
      ]
     },
     "execution_count": 12,
     "metadata": {},
     "output_type": "execute_result"
    }
   ],
   "source": [
    "data = pd.read_csv(\"reddit_stocks_data.csv\", encoding=\"ISO-8859-1\")\n",
    "data.head()"
   ]
  },
  {
   "cell_type": "code",
   "execution_count": 13,
   "metadata": {},
   "outputs": [],
   "source": [
    "# ! pip install TextBlob\n",
    "import pandas as pd\n",
    "from textblob import TextBlob\n",
    "import re\n"
   ]
  },
  {
   "cell_type": "code",
   "execution_count": 14,
   "metadata": {},
   "outputs": [],
   "source": [
    "# Function to calculate sentiment polarity\n",
    "def analyze_sentiment(text):\n",
    "    analysis = TextBlob(str(text))\n",
    "    return analysis.sentiment.polarity  # Range: -1 to +1\n",
    "\n",
    "# Apply sentiment analysis to titles and content\n",
    "data['Title Sentiment'] = data['Title'].apply(analyze_sentiment)\n",
    "data['Content Sentiment'] = data['Content'].apply(analyze_sentiment)\n"
   ]
  },
  {
   "cell_type": "code",
   "execution_count": 15,
   "metadata": {},
   "outputs": [],
   "source": [
    "# Function to extract stock mentions (e.g., ticker symbols)\n",
    "def extract_stock_mentions(text):\n",
    "    # Assuming stock tickers are all-caps (1-4 letters, e.g., TSLA, GOOG)\n",
    "    return re.findall(r'\\b[A-Z]{1,4}\\b', str(text))\n",
    "\n",
    "# Count the number of stock mentions in each post\n",
    "data['Stock Mentions'] = data['Content'].apply(lambda x: len(extract_stock_mentions(x)))\n"
   ]
  },
  {
   "cell_type": "code",
   "execution_count": 16,
   "metadata": {},
   "outputs": [
    {
     "name": "stdout",
     "output_type": "stream",
     "text": [
      "                                               Title  Title Sentiment  \\\n",
      "0  r/Stocks Daily Discussion & Fundamentals Frida...              0.0   \n",
      "1  /r/Stocks Weekend Discussion Saturday - Nov 30...              0.0   \n",
      "2  Do you think Rivian would make it to $100 a sh...              0.0   \n",
      "3  23-Hour Party People: U.S. stocks may soon tra...              0.1   \n",
      "4  Thoughts on buying BRB.K this month instead of...              0.0   \n",
      "\n",
      "   Content Sentiment  Stock Mentions  \n",
      "0           0.036523              16  \n",
      "1          -0.050000               2  \n",
      "2           0.100000               2  \n",
      "3           0.007273               5  \n",
      "4           0.042188              19  \n"
     ]
    }
   ],
   "source": [
    "# Display the first few rows with the calculated features\n",
    "print(data[['Title', 'Title Sentiment', 'Content Sentiment', 'Stock Mentions']].head())\n"
   ]
  },
  {
   "cell_type": "code",
   "execution_count": 17,
   "metadata": {},
   "outputs": [],
   "source": [
    "# Save the updated dataframe to a new CSV file\n",
    "output_path = 'processed_reddit_stocks_data.csv'\n",
    "data.to_csv(output_path, index=False)\n"
   ]
  }
 ],
 "metadata": {
  "kernelspec": {
   "display_name": "base",
   "language": "python",
   "name": "python3"
  },
  "language_info": {
   "codemirror_mode": {
    "name": "ipython",
    "version": 3
   },
   "file_extension": ".py",
   "mimetype": "text/x-python",
   "name": "python",
   "nbconvert_exporter": "python",
   "pygments_lexer": "ipython3",
   "version": "3.12.4"
  }
 },
 "nbformat": 4,
 "nbformat_minor": 2
}
