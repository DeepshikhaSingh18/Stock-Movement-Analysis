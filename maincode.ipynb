{
 "cells": [
  {
   "cell_type": "code",
   "execution_count": 2,
   "metadata": {},
   "outputs": [
    {
     "name": "stderr",
     "output_type": "stream",
     "text": [
      "[nltk_data] Downloading package stopwords to\n",
      "[nltk_data]     C:\\Users\\Deepshikha\\AppData\\Roaming\\nltk_data...\n",
      "[nltk_data]   Package stopwords is already up-to-date!\n"
     ]
    }
   ],
   "source": [
    "import pandas as pd\n",
    "import numpy as np\n",
    "import seaborn as sns\n",
    "import matplotlib.pyplot as plt\n",
    "import re\n",
    "import nltk\n",
    "from nltk.corpus import stopwords\n",
    "from nltk.tokenize import word_tokenize\n",
    "nltk.download('stopwords')\n",
    "from bs4 import BeautifulSoup"
   ]
  },
  {
   "cell_type": "code",
   "execution_count": null,
   "metadata": {},
   "outputs": [],
   "source": [
    "import praw\n",
    "import pandas as pd\n",
    "\n",
    "# Configure Reddit API credentials\n",
    "reddit = praw.Reddit(\n",
    "    client_id=\"get your client id from reddit developer portal\",         # Replace with your client_id\n",
    "    client_secret=\"get your client_secret from reddit developer portal\", # Replace with your client_secret\n",
    "    user_agent=\"MyScraper v1.0 by /u/financialdata\"        # Replace with your user_agent\n",
    ")\n",
    "\n",
    "# Define the subreddit and data collection parameters\n",
    "subreddit = reddit.subreddit(\"stocks\")\n",
    "post_limit = 50000  # Number of posts to fetch\n",
    "\n",
    "# Initialize a list to hold the data\n",
    "data = []\n",
    "\n",
    "# Scrape posts\n",
    "print(\"Scraping data from r/stocks...\")\n",
    "for post in subreddit.hot(limit=post_limit):  # Use 'hot', 'new', or 'top' as needed\n",
    "    data.append({\n",
    "        \"Post ID\": post.id,\n",
    "        \"Title\": post.title,\n",
    "        \"Score\": post.score,\n",
    "        \"Upvote Ratio\": post.upvote_ratio,\n",
    "        \"Number of Comments\": post.num_comments,\n",
    "        \"Created At\": post.created_utc,  # UTC timestamp\n",
    "        \"Author\": post.author.name if post.author else \"Deleted\",\n",
    "        \"Post URL\": post.url,\n",
    "        \"Content\": post.selftext  # The post body (text content)\n",
    "    })\n",
    "\n",
    "# Convert data to a pandas DataFrame\n",
    "df = pd.DataFrame(data)\n",
    "\n",
    "# Save data to a CSV file\n",
    "csv_file = \"reddit_stocks_data.csv\"\n",
    "df.to_csv(csv_file, index=False)\n",
    "\n",
    "print(f\"Scraping complete! Data saved to {csv_file}.\")\n"
   ]
  },
  {
   "cell_type": "code",
   "execution_count": 107,
   "metadata": {},
   "outputs": [
    {
     "data": {
      "text/html": [
       "<div>\n",
       "<style scoped>\n",
       "    .dataframe tbody tr th:only-of-type {\n",
       "        vertical-align: middle;\n",
       "    }\n",
       "\n",
       "    .dataframe tbody tr th {\n",
       "        vertical-align: top;\n",
       "    }\n",
       "\n",
       "    .dataframe thead th {\n",
       "        text-align: right;\n",
       "    }\n",
       "</style>\n",
       "<table border=\"1\" class=\"dataframe\">\n",
       "  <thead>\n",
       "    <tr style=\"text-align: right;\">\n",
       "      <th></th>\n",
       "      <th>Post ID</th>\n",
       "      <th>Title</th>\n",
       "      <th>Score</th>\n",
       "      <th>Upvote Ratio</th>\n",
       "      <th>Number of Comments</th>\n",
       "      <th>Created At</th>\n",
       "      <th>Author</th>\n",
       "      <th>Post URL</th>\n",
       "      <th>Content</th>\n",
       "    </tr>\n",
       "  </thead>\n",
       "  <tbody>\n",
       "    <tr>\n",
       "      <th>0</th>\n",
       "      <td>1grtfyq</td>\n",
       "      <td>r/Stocks Daily Discussion &amp; Fundamentals Frida...</td>\n",
       "      <td>25</td>\n",
       "      <td>0.94</td>\n",
       "      <td>477</td>\n",
       "      <td>1.731667e+09</td>\n",
       "      <td>AutoModerator</td>\n",
       "      <td>https://www.reddit.com/r/stocks/comments/1grtf...</td>\n",
       "      <td>This is the daily discussion, so anything stoc...</td>\n",
       "    </tr>\n",
       "    <tr>\n",
       "      <th>1</th>\n",
       "      <td>1h39vdi</td>\n",
       "      <td>/r/Stocks Weekend Discussion Saturday - Nov 30...</td>\n",
       "      <td>2</td>\n",
       "      <td>1.00</td>\n",
       "      <td>9</td>\n",
       "      <td>1.732963e+09</td>\n",
       "      <td>AutoModerator</td>\n",
       "      <td>https://www.reddit.com/r/stocks/comments/1h39v...</td>\n",
       "      <td>This is the weekend edition of our stickied di...</td>\n",
       "    </tr>\n",
       "    <tr>\n",
       "      <th>2</th>\n",
       "      <td>1h3465k</td>\n",
       "      <td>Do you think Rivian would make it to $100 a sh...</td>\n",
       "      <td>67</td>\n",
       "      <td>0.60</td>\n",
       "      <td>258</td>\n",
       "      <td>1.732940e+09</td>\n",
       "      <td>CoolTomatoh</td>\n",
       "      <td>https://www.reddit.com/r/stocks/comments/1h346...</td>\n",
       "      <td>With talks of Rivian saving VW, California kee...</td>\n",
       "    </tr>\n",
       "    <tr>\n",
       "      <th>3</th>\n",
       "      <td>1h2roez</td>\n",
       "      <td>23-Hour Party People: U.S. stocks may soon tra...</td>\n",
       "      <td>407</td>\n",
       "      <td>0.92</td>\n",
       "      <td>162</td>\n",
       "      <td>1.732903e+09</td>\n",
       "      <td>DecisionNo1902</td>\n",
       "      <td>https://www.reddit.com/r/stocks/comments/1h2ro...</td>\n",
       "      <td>**23-Hour Party People:**  \\n**U.S. stocks may...</td>\n",
       "    </tr>\n",
       "    <tr>\n",
       "      <th>4</th>\n",
       "      <td>1h2nht8</td>\n",
       "      <td>Thoughts on buying BRB.K this month instead of...</td>\n",
       "      <td>56</td>\n",
       "      <td>0.80</td>\n",
       "      <td>51</td>\n",
       "      <td>1.732892e+09</td>\n",
       "      <td>Life-Ambition1432</td>\n",
       "      <td>https://www.reddit.com/r/stocks/comments/1h2nh...</td>\n",
       "      <td>Does anyone have any thoughts on buying BRB.K ...</td>\n",
       "    </tr>\n",
       "  </tbody>\n",
       "</table>\n",
       "</div>"
      ],
      "text/plain": [
       "   Post ID                                              Title  Score  \\\n",
       "0  1grtfyq  r/Stocks Daily Discussion & Fundamentals Frida...     25   \n",
       "1  1h39vdi  /r/Stocks Weekend Discussion Saturday - Nov 30...      2   \n",
       "2  1h3465k  Do you think Rivian would make it to $100 a sh...     67   \n",
       "3  1h2roez  23-Hour Party People: U.S. stocks may soon tra...    407   \n",
       "4  1h2nht8  Thoughts on buying BRB.K this month instead of...     56   \n",
       "\n",
       "   Upvote Ratio  Number of Comments    Created At             Author  \\\n",
       "0          0.94                 477  1.731667e+09      AutoModerator   \n",
       "1          1.00                   9  1.732963e+09      AutoModerator   \n",
       "2          0.60                 258  1.732940e+09        CoolTomatoh   \n",
       "3          0.92                 162  1.732903e+09     DecisionNo1902   \n",
       "4          0.80                  51  1.732892e+09  Life-Ambition1432   \n",
       "\n",
       "                                            Post URL  \\\n",
       "0  https://www.reddit.com/r/stocks/comments/1grtf...   \n",
       "1  https://www.reddit.com/r/stocks/comments/1h39v...   \n",
       "2  https://www.reddit.com/r/stocks/comments/1h346...   \n",
       "3  https://www.reddit.com/r/stocks/comments/1h2ro...   \n",
       "4  https://www.reddit.com/r/stocks/comments/1h2nh...   \n",
       "\n",
       "                                             Content  \n",
       "0  This is the daily discussion, so anything stoc...  \n",
       "1  This is the weekend edition of our stickied di...  \n",
       "2  With talks of Rivian saving VW, California kee...  \n",
       "3  **23-Hour Party People:**  \\n**U.S. stocks may...  \n",
       "4  Does anyone have any thoughts on buying BRB.K ...  "
      ]
     },
     "execution_count": 107,
     "metadata": {},
     "output_type": "execute_result"
    }
   ],
   "source": [
    "df = pd.read_csv('reddit_stocks_data.csv')\n",
    "df.head()"
   ]
  },
  {
   "cell_type": "code",
   "execution_count": 108,
   "metadata": {},
   "outputs": [
    {
     "data": {
      "text/html": [
       "<div>\n",
       "<style scoped>\n",
       "    .dataframe tbody tr th:only-of-type {\n",
       "        vertical-align: middle;\n",
       "    }\n",
       "\n",
       "    .dataframe tbody tr th {\n",
       "        vertical-align: top;\n",
       "    }\n",
       "\n",
       "    .dataframe thead th {\n",
       "        text-align: right;\n",
       "    }\n",
       "</style>\n",
       "<table border=\"1\" class=\"dataframe\">\n",
       "  <thead>\n",
       "    <tr style=\"text-align: right;\">\n",
       "      <th></th>\n",
       "      <th>Title</th>\n",
       "      <th>Upvote Ratio</th>\n",
       "      <th>Number of Comments</th>\n",
       "      <th>Content</th>\n",
       "    </tr>\n",
       "  </thead>\n",
       "  <tbody>\n",
       "    <tr>\n",
       "      <th>0</th>\n",
       "      <td>r/Stocks Daily Discussion &amp; Fundamentals Frida...</td>\n",
       "      <td>0.94</td>\n",
       "      <td>477</td>\n",
       "      <td>This is the daily discussion, so anything stoc...</td>\n",
       "    </tr>\n",
       "    <tr>\n",
       "      <th>1</th>\n",
       "      <td>/r/Stocks Weekend Discussion Saturday - Nov 30...</td>\n",
       "      <td>1.00</td>\n",
       "      <td>9</td>\n",
       "      <td>This is the weekend edition of our stickied di...</td>\n",
       "    </tr>\n",
       "    <tr>\n",
       "      <th>2</th>\n",
       "      <td>Do you think Rivian would make it to $100 a sh...</td>\n",
       "      <td>0.60</td>\n",
       "      <td>258</td>\n",
       "      <td>With talks of Rivian saving VW, California kee...</td>\n",
       "    </tr>\n",
       "    <tr>\n",
       "      <th>3</th>\n",
       "      <td>23-Hour Party People: U.S. stocks may soon tra...</td>\n",
       "      <td>0.92</td>\n",
       "      <td>162</td>\n",
       "      <td>**23-Hour Party People:**  \\n**U.S. stocks may...</td>\n",
       "    </tr>\n",
       "    <tr>\n",
       "      <th>4</th>\n",
       "      <td>Thoughts on buying BRB.K this month instead of...</td>\n",
       "      <td>0.80</td>\n",
       "      <td>51</td>\n",
       "      <td>Does anyone have any thoughts on buying BRB.K ...</td>\n",
       "    </tr>\n",
       "  </tbody>\n",
       "</table>\n",
       "</div>"
      ],
      "text/plain": [
       "                                               Title  Upvote Ratio  \\\n",
       "0  r/Stocks Daily Discussion & Fundamentals Frida...          0.94   \n",
       "1  /r/Stocks Weekend Discussion Saturday - Nov 30...          1.00   \n",
       "2  Do you think Rivian would make it to $100 a sh...          0.60   \n",
       "3  23-Hour Party People: U.S. stocks may soon tra...          0.92   \n",
       "4  Thoughts on buying BRB.K this month instead of...          0.80   \n",
       "\n",
       "   Number of Comments                                            Content  \n",
       "0                 477  This is the daily discussion, so anything stoc...  \n",
       "1                   9  This is the weekend edition of our stickied di...  \n",
       "2                 258  With talks of Rivian saving VW, California kee...  \n",
       "3                 162  **23-Hour Party People:**  \\n**U.S. stocks may...  \n",
       "4                  51  Does anyone have any thoughts on buying BRB.K ...  "
      ]
     },
     "execution_count": 108,
     "metadata": {},
     "output_type": "execute_result"
    }
   ],
   "source": [
    "# Selecting the specified columns: 'Title', 'Upvote Ratio', 'Number of Comments', and 'Content'\n",
    "selected_columns = ['Title', 'Upvote Ratio', 'Number of Comments', 'Content']\n",
    "df = df[selected_columns]\n",
    "\n",
    "# Display the first few rows of the new DataFrame\n",
    "df.head()\n"
   ]
  },
  {
   "cell_type": "code",
   "execution_count": 109,
   "metadata": {},
   "outputs": [
    {
     "data": {
      "text/plain": [
       "(172, 4)"
      ]
     },
     "execution_count": 109,
     "metadata": {},
     "output_type": "execute_result"
    }
   ],
   "source": [
    "df.shape"
   ]
  },
  {
   "cell_type": "code",
   "execution_count": 110,
   "metadata": {},
   "outputs": [
    {
     "data": {
      "text/plain": [
       "Title                 0\n",
       "Upvote Ratio          0\n",
       "Number of Comments    0\n",
       "Content               0\n",
       "dtype: int64"
      ]
     },
     "execution_count": 110,
     "metadata": {},
     "output_type": "execute_result"
    }
   ],
   "source": [
    "## Missing values\n",
    "df.isnull().sum()"
   ]
  },
  {
   "cell_type": "code",
   "execution_count": 111,
   "metadata": {},
   "outputs": [
    {
     "data": {
      "text/plain": [
       "array([0.94, 1.  , 0.6 , 0.92, 0.8 , 0.71, 0.72, 0.87, 0.84, 0.35, 0.66,\n",
       "       0.78, 0.88, 0.85, 0.69, 0.95, 0.54, 0.9 , 0.16, 0.32, 0.49, 0.76,\n",
       "       0.91, 0.62, 0.86, 0.75, 0.97, 0.82, 0.47, 0.83, 0.33, 0.81, 0.45,\n",
       "       0.77, 0.4 , 0.65, 0.73, 0.93, 0.56, 0.89, 0.59, 0.64, 0.42, 0.96,\n",
       "       0.61, 0.79, 0.48, 0.43, 0.44, 0.41, 0.25, 0.29, 0.28, 0.7 , 0.53,\n",
       "       0.67])"
      ]
     },
     "execution_count": 111,
     "metadata": {},
     "output_type": "execute_result"
    }
   ],
   "source": [
    "df['Upvote Ratio'].unique()"
   ]
  },
  {
   "cell_type": "code",
   "execution_count": 112,
   "metadata": {},
   "outputs": [
    {
     "data": {
      "text/plain": [
       "array([ 477,    9,  258,  162,   51,    4,   11,  159,  369,  173,   14,\n",
       "        148,  115, 2319,   74,  118,   47,   86,    7,  364,   50,   34,\n",
       "         32,   20,   18,  228,  262,   15,   45,   98,  175,   73,   43,\n",
       "         13,  291,   41,   40,   26,  195,  233,  106,   19,   17,   52,\n",
       "        357,  229,  108,   36,   44,   70,   27,    6,   23,  641,   12,\n",
       "          8,  190,   57,    1,  174,  188,   30,   79,  284,  255,   39,\n",
       "          0,   16,  109,  150,   46,  246,  351,   29,  431,   82,   61,\n",
       "         28,  303,  142,   48,   38,   63,  151,  271,   93,  288,   22,\n",
       "         68,   56,   67,   25,   88,    3,  141,  207,  348,   76,  385,\n",
       "        110,   69,   35,  116,   84,  122,   65,   85], dtype=int64)"
      ]
     },
     "execution_count": 112,
     "metadata": {},
     "output_type": "execute_result"
    }
   ],
   "source": [
    "df['Number of Comments'].unique()"
   ]
  },
  {
   "cell_type": "code",
   "execution_count": 113,
   "metadata": {},
   "outputs": [
    {
     "data": {
      "text/plain": [
       "Number of Comments\n",
       "4      8\n",
       "9      6\n",
       "7      6\n",
       "11     5\n",
       "8      4\n",
       "      ..\n",
       "357    1\n",
       "52     1\n",
       "19     1\n",
       "106    1\n",
       "85     1\n",
       "Name: count, Length: 107, dtype: int64"
      ]
     },
     "execution_count": 113,
     "metadata": {},
     "output_type": "execute_result"
    }
   ],
   "source": [
    "df['Number of Comments'].value_counts()"
   ]
  },
  {
   "cell_type": "code",
   "execution_count": 114,
   "metadata": {},
   "outputs": [
    {
     "data": {
      "text/plain": [
       "Upvote Ratio\n",
       "0.80    8\n",
       "0.84    8\n",
       "0.88    8\n",
       "0.94    7\n",
       "0.85    7\n",
       "0.87    7\n",
       "0.91    7\n",
       "0.92    6\n",
       "0.81    5\n",
       "0.82    5\n",
       "0.75    5\n",
       "0.86    5\n",
       "0.93    5\n",
       "0.95    5\n",
       "0.96    5\n",
       "0.83    5\n",
       "0.89    4\n",
       "0.90    4\n",
       "0.66    4\n",
       "0.42    4\n",
       "0.69    3\n",
       "0.78    3\n",
       "0.77    3\n",
       "0.76    3\n",
       "0.97    3\n",
       "0.33    2\n",
       "0.65    2\n",
       "0.45    2\n",
       "0.64    2\n",
       "0.70    2\n",
       "0.47    2\n",
       "0.71    2\n",
       "0.16    2\n",
       "0.54    2\n",
       "0.35    2\n",
       "0.72    2\n",
       "0.62    2\n",
       "0.48    1\n",
       "0.53    1\n",
       "0.60    1\n",
       "0.28    1\n",
       "0.29    1\n",
       "0.25    1\n",
       "0.41    1\n",
       "0.44    1\n",
       "0.43    1\n",
       "1.00    1\n",
       "0.79    1\n",
       "0.61    1\n",
       "0.59    1\n",
       "0.56    1\n",
       "0.73    1\n",
       "0.32    1\n",
       "0.40    1\n",
       "0.49    1\n",
       "0.67    1\n",
       "Name: count, dtype: int64"
      ]
     },
     "execution_count": 114,
     "metadata": {},
     "output_type": "execute_result"
    }
   ],
   "source": [
    "df['Upvote Ratio'].value_counts()"
   ]
  },
  {
   "cell_type": "markdown",
   "metadata": {},
   "source": [
    "## Preprocessing and Cleaning"
   ]
  },
  {
   "cell_type": "markdown",
   "metadata": {},
   "source": [
    "##### 1. Lower all the cases"
   ]
  },
  {
   "cell_type": "code",
   "execution_count": 115,
   "metadata": {},
   "outputs": [
    {
     "data": {
      "text/html": [
       "<div>\n",
       "<style scoped>\n",
       "    .dataframe tbody tr th:only-of-type {\n",
       "        vertical-align: middle;\n",
       "    }\n",
       "\n",
       "    .dataframe tbody tr th {\n",
       "        vertical-align: top;\n",
       "    }\n",
       "\n",
       "    .dataframe thead th {\n",
       "        text-align: right;\n",
       "    }\n",
       "</style>\n",
       "<table border=\"1\" class=\"dataframe\">\n",
       "  <thead>\n",
       "    <tr style=\"text-align: right;\">\n",
       "      <th></th>\n",
       "      <th>Title</th>\n",
       "      <th>Upvote Ratio</th>\n",
       "      <th>Number of Comments</th>\n",
       "      <th>Content</th>\n",
       "    </tr>\n",
       "  </thead>\n",
       "  <tbody>\n",
       "    <tr>\n",
       "      <th>0</th>\n",
       "      <td>r/stocks daily discussion &amp; fundamentals frida...</td>\n",
       "      <td>0.94</td>\n",
       "      <td>477</td>\n",
       "      <td>this is the daily discussion, so anything stoc...</td>\n",
       "    </tr>\n",
       "    <tr>\n",
       "      <th>1</th>\n",
       "      <td>/r/stocks weekend discussion saturday - nov 30...</td>\n",
       "      <td>1.00</td>\n",
       "      <td>9</td>\n",
       "      <td>this is the weekend edition of our stickied di...</td>\n",
       "    </tr>\n",
       "    <tr>\n",
       "      <th>2</th>\n",
       "      <td>do you think rivian would make it to $100 a sh...</td>\n",
       "      <td>0.60</td>\n",
       "      <td>258</td>\n",
       "      <td>with talks of rivian saving vw, california kee...</td>\n",
       "    </tr>\n",
       "    <tr>\n",
       "      <th>3</th>\n",
       "      <td>23-hour party people: u.s. stocks may soon tra...</td>\n",
       "      <td>0.92</td>\n",
       "      <td>162</td>\n",
       "      <td>**23-hour party people:**  \\n**u.s. stocks may...</td>\n",
       "    </tr>\n",
       "    <tr>\n",
       "      <th>4</th>\n",
       "      <td>thoughts on buying brb.k this month instead of...</td>\n",
       "      <td>0.80</td>\n",
       "      <td>51</td>\n",
       "      <td>does anyone have any thoughts on buying brb.k ...</td>\n",
       "    </tr>\n",
       "  </tbody>\n",
       "</table>\n",
       "</div>"
      ],
      "text/plain": [
       "                                               Title  Upvote Ratio  \\\n",
       "0  r/stocks daily discussion & fundamentals frida...          0.94   \n",
       "1  /r/stocks weekend discussion saturday - nov 30...          1.00   \n",
       "2  do you think rivian would make it to $100 a sh...          0.60   \n",
       "3  23-hour party people: u.s. stocks may soon tra...          0.92   \n",
       "4  thoughts on buying brb.k this month instead of...          0.80   \n",
       "\n",
       "   Number of Comments                                            Content  \n",
       "0                 477  this is the daily discussion, so anything stoc...  \n",
       "1                   9  this is the weekend edition of our stickied di...  \n",
       "2                 258  with talks of rivian saving vw, california kee...  \n",
       "3                 162  **23-hour party people:**  \\n**u.s. stocks may...  \n",
       "4                  51  does anyone have any thoughts on buying brb.k ...  "
      ]
     },
     "execution_count": 115,
     "metadata": {},
     "output_type": "execute_result"
    }
   ],
   "source": [
    "df.columns\n",
    "df['Title'] = df['Title'].str.lower()\n",
    "df['Content'] = df['Content'].str.lower()\n",
    "df.head(5)"
   ]
  },
  {
   "cell_type": "code",
   "execution_count": 116,
   "metadata": {},
   "outputs": [],
   "source": [
    "## Clean data\n",
    "#### 1. removing special characters\n",
    "\n",
    "df['Content'] = df['Content'].apply(lambda x: re.sub(r'[^A-Z a-z 0-9\\s]+', '', x))\n",
    "df['Title'] = df['Title'].apply(lambda x: re.sub(r'[^A-Z a-z 0-9\\s]+', '', x))\n",
    "\n",
    "### 2. removing stop words\n",
    "df['Content'] = df['Content'].apply(lambda x: ' '.join([word for word in x.split() if word not in stopwords.words('english')]))\n",
    "df['Title'] = df['Title'].apply(lambda x: ' '.join([word for word in x.split() if word not in stopwords.words('english')]))\n",
    "\n",
    "## 3. remove url\n",
    "df['Content'] = df['Content'].apply(lambda x : re.sub(r'http\\S+', '', x))\n",
    "df['Title'] = df['Title'].apply(lambda x : re.sub(r'http\\S+', '', x))\n",
    "\n",
    "## 4. remove html tags\n",
    "df['Content'] = df['Content'].apply(lambda x: BeautifulSoup(x, 'lxml').get_text())\n",
    "df['Title'] = df['Title'].apply(lambda x: BeautifulSoup(x, 'lxml').get_text())\n",
    "\n",
    "## 5. remove extra spaces\n",
    "df['Content'] = df['Content'].apply(lambda x: ' '.join(x.split()))\n",
    "df['Title'] = df['Title'].apply(lambda x: ' '.join(x.split()))"
   ]
  },
  {
   "cell_type": "code",
   "execution_count": 117,
   "metadata": {},
   "outputs": [
    {
     "data": {
      "text/html": [
       "<div>\n",
       "<style scoped>\n",
       "    .dataframe tbody tr th:only-of-type {\n",
       "        vertical-align: middle;\n",
       "    }\n",
       "\n",
       "    .dataframe tbody tr th {\n",
       "        vertical-align: top;\n",
       "    }\n",
       "\n",
       "    .dataframe thead th {\n",
       "        text-align: right;\n",
       "    }\n",
       "</style>\n",
       "<table border=\"1\" class=\"dataframe\">\n",
       "  <thead>\n",
       "    <tr style=\"text-align: right;\">\n",
       "      <th></th>\n",
       "      <th>Title</th>\n",
       "      <th>Upvote Ratio</th>\n",
       "      <th>Number of Comments</th>\n",
       "      <th>Content</th>\n",
       "    </tr>\n",
       "  </thead>\n",
       "  <tbody>\n",
       "    <tr>\n",
       "      <th>0</th>\n",
       "      <td>rstocks daily discussion fundamentals friday n...</td>\n",
       "      <td>0.94</td>\n",
       "      <td>477</td>\n",
       "      <td>daily discussion anything stocks related fine ...</td>\n",
       "    </tr>\n",
       "    <tr>\n",
       "      <th>1</th>\n",
       "      <td>rstocks weekend discussion saturday nov 30 2024</td>\n",
       "      <td>1.00</td>\n",
       "      <td>9</td>\n",
       "      <td>weekend edition stickied discussion thread dis...</td>\n",
       "    </tr>\n",
       "    <tr>\n",
       "      <th>2</th>\n",
       "      <td>think rivian would make 100 share</td>\n",
       "      <td>0.60</td>\n",
       "      <td>258</td>\n",
       "      <td>talks rivian saving vw california keeping tax ...</td>\n",
       "    </tr>\n",
       "    <tr>\n",
       "      <th>3</th>\n",
       "      <td>23hour party people us stocks may soon trade n...</td>\n",
       "      <td>0.92</td>\n",
       "      <td>162</td>\n",
       "      <td>23hour party people us stocks may soon trade n...</td>\n",
       "    </tr>\n",
       "    <tr>\n",
       "      <th>4</th>\n",
       "      <td>thoughts buying brbk month instead dcaing sp</td>\n",
       "      <td>0.80</td>\n",
       "      <td>51</td>\n",
       "      <td>anyone thoughts buying brbk month one instead ...</td>\n",
       "    </tr>\n",
       "  </tbody>\n",
       "</table>\n",
       "</div>"
      ],
      "text/plain": [
       "                                               Title  Upvote Ratio  \\\n",
       "0  rstocks daily discussion fundamentals friday n...          0.94   \n",
       "1    rstocks weekend discussion saturday nov 30 2024          1.00   \n",
       "2                  think rivian would make 100 share          0.60   \n",
       "3  23hour party people us stocks may soon trade n...          0.92   \n",
       "4       thoughts buying brbk month instead dcaing sp          0.80   \n",
       "\n",
       "   Number of Comments                                            Content  \n",
       "0                 477  daily discussion anything stocks related fine ...  \n",
       "1                   9  weekend edition stickied discussion thread dis...  \n",
       "2                 258  talks rivian saving vw california keeping tax ...  \n",
       "3                 162  23hour party people us stocks may soon trade n...  \n",
       "4                  51  anyone thoughts buying brbk month one instead ...  "
      ]
     },
     "execution_count": 117,
     "metadata": {},
     "output_type": "execute_result"
    }
   ],
   "source": [
    "df.head()"
   ]
  },
  {
   "cell_type": "markdown",
   "metadata": {},
   "source": [
    "##### Lemmatization"
   ]
  },
  {
   "cell_type": "code",
   "execution_count": 118,
   "metadata": {},
   "outputs": [
    {
     "name": "stderr",
     "output_type": "stream",
     "text": [
      "[nltk_data] Downloading package wordnet to\n",
      "[nltk_data]     C:\\Users\\Deepshikha\\AppData\\Roaming\\nltk_data...\n",
      "[nltk_data]   Package wordnet is already up-to-date!\n"
     ]
    },
    {
     "data": {
      "text/plain": [
       "True"
      ]
     },
     "execution_count": 118,
     "metadata": {},
     "output_type": "execute_result"
    }
   ],
   "source": [
    "from nltk.stem import WordNetLemmatizer\n",
    "nltk.download('wordnet')"
   ]
  },
  {
   "cell_type": "code",
   "execution_count": 119,
   "metadata": {},
   "outputs": [],
   "source": [
    "lemmatizer = WordNetLemmatizer()"
   ]
  },
  {
   "cell_type": "code",
   "execution_count": 120,
   "metadata": {},
   "outputs": [],
   "source": [
    "def lemmatize_words(text):\n",
    "    return \" \".join([lemmatizer.lemmatize(word) for word in text.split()])"
   ]
  },
  {
   "cell_type": "code",
   "execution_count": 121,
   "metadata": {},
   "outputs": [],
   "source": [
    "df['Content'] = df['Content'].apply(lambda x:lemmatize_words(x))"
   ]
  },
  {
   "cell_type": "code",
   "execution_count": 122,
   "metadata": {},
   "outputs": [],
   "source": [
    "df['Title'] = df['Title'].apply(lambda x:lemmatize_words(x))"
   ]
  },
  {
   "cell_type": "code",
   "execution_count": 123,
   "metadata": {},
   "outputs": [
    {
     "data": {
      "text/html": [
       "<div>\n",
       "<style scoped>\n",
       "    .dataframe tbody tr th:only-of-type {\n",
       "        vertical-align: middle;\n",
       "    }\n",
       "\n",
       "    .dataframe tbody tr th {\n",
       "        vertical-align: top;\n",
       "    }\n",
       "\n",
       "    .dataframe thead th {\n",
       "        text-align: right;\n",
       "    }\n",
       "</style>\n",
       "<table border=\"1\" class=\"dataframe\">\n",
       "  <thead>\n",
       "    <tr style=\"text-align: right;\">\n",
       "      <th></th>\n",
       "      <th>Title</th>\n",
       "      <th>Upvote Ratio</th>\n",
       "      <th>Number of Comments</th>\n",
       "      <th>Content</th>\n",
       "    </tr>\n",
       "  </thead>\n",
       "  <tbody>\n",
       "    <tr>\n",
       "      <th>0</th>\n",
       "      <td>rstocks daily discussion fundamental friday no...</td>\n",
       "      <td>0.94</td>\n",
       "      <td>477</td>\n",
       "      <td>daily discussion anything stock related fine t...</td>\n",
       "    </tr>\n",
       "    <tr>\n",
       "      <th>1</th>\n",
       "      <td>rstocks weekend discussion saturday nov 30 2024</td>\n",
       "      <td>1.00</td>\n",
       "      <td>9</td>\n",
       "      <td>weekend edition stickied discussion thread dis...</td>\n",
       "    </tr>\n",
       "    <tr>\n",
       "      <th>2</th>\n",
       "      <td>think rivian would make 100 share</td>\n",
       "      <td>0.60</td>\n",
       "      <td>258</td>\n",
       "      <td>talk rivian saving vw california keeping tax c...</td>\n",
       "    </tr>\n",
       "    <tr>\n",
       "      <th>3</th>\n",
       "      <td>23hour party people u stock may soon trade nea...</td>\n",
       "      <td>0.92</td>\n",
       "      <td>162</td>\n",
       "      <td>23hour party people u stock may soon trade nea...</td>\n",
       "    </tr>\n",
       "    <tr>\n",
       "      <th>4</th>\n",
       "      <td>thought buying brbk month instead dcaing sp</td>\n",
       "      <td>0.80</td>\n",
       "      <td>51</td>\n",
       "      <td>anyone thought buying brbk month one instead u...</td>\n",
       "    </tr>\n",
       "  </tbody>\n",
       "</table>\n",
       "</div>"
      ],
      "text/plain": [
       "                                               Title  Upvote Ratio  \\\n",
       "0  rstocks daily discussion fundamental friday no...          0.94   \n",
       "1    rstocks weekend discussion saturday nov 30 2024          1.00   \n",
       "2                  think rivian would make 100 share          0.60   \n",
       "3  23hour party people u stock may soon trade nea...          0.92   \n",
       "4        thought buying brbk month instead dcaing sp          0.80   \n",
       "\n",
       "   Number of Comments                                            Content  \n",
       "0                 477  daily discussion anything stock related fine t...  \n",
       "1                   9  weekend edition stickied discussion thread dis...  \n",
       "2                 258  talk rivian saving vw california keeping tax c...  \n",
       "3                 162  23hour party people u stock may soon trade nea...  \n",
       "4                  51  anyone thought buying brbk month one instead u...  "
      ]
     },
     "execution_count": 123,
     "metadata": {},
     "output_type": "execute_result"
    }
   ],
   "source": [
    "df.head()"
   ]
  },
  {
   "cell_type": "markdown",
   "metadata": {},
   "source": [
    "#### Data Segmentation based on comment and upvote"
   ]
  },
  {
   "cell_type": "code",
   "execution_count": 124,
   "metadata": {},
   "outputs": [],
   "source": [
    "\n",
    "# Define a threshold for high engagement using the median of 'Comments' and 'Upvote Ratio'\n",
    "comments_median = df['Number of Comments'].median()\n",
    "upvote_median = df['Upvote Ratio'].median()\n",
    "\n",
    "# Create a binary target column\n",
    "df['Stock_Movement'] = np.where(\n",
    "    (df['Number of Comments'] > comments_median) & (df['Upvote Ratio'] > upvote_median), \n",
    "    1,  # High engagement\n",
    "    0   # Low engagement\n",
    "\n",
    ")\n"
   ]
  },
  {
   "cell_type": "code",
   "execution_count": 125,
   "metadata": {},
   "outputs": [
    {
     "data": {
      "text/html": [
       "<div>\n",
       "<style scoped>\n",
       "    .dataframe tbody tr th:only-of-type {\n",
       "        vertical-align: middle;\n",
       "    }\n",
       "\n",
       "    .dataframe tbody tr th {\n",
       "        vertical-align: top;\n",
       "    }\n",
       "\n",
       "    .dataframe thead th {\n",
       "        text-align: right;\n",
       "    }\n",
       "</style>\n",
       "<table border=\"1\" class=\"dataframe\">\n",
       "  <thead>\n",
       "    <tr style=\"text-align: right;\">\n",
       "      <th></th>\n",
       "      <th>Title</th>\n",
       "      <th>Upvote Ratio</th>\n",
       "      <th>Number of Comments</th>\n",
       "      <th>Content</th>\n",
       "      <th>Stock_Movement</th>\n",
       "    </tr>\n",
       "  </thead>\n",
       "  <tbody>\n",
       "    <tr>\n",
       "      <th>0</th>\n",
       "      <td>rstocks daily discussion fundamental friday no...</td>\n",
       "      <td>0.94</td>\n",
       "      <td>477</td>\n",
       "      <td>daily discussion anything stock related fine t...</td>\n",
       "      <td>1</td>\n",
       "    </tr>\n",
       "    <tr>\n",
       "      <th>1</th>\n",
       "      <td>rstocks weekend discussion saturday nov 30 2024</td>\n",
       "      <td>1.00</td>\n",
       "      <td>9</td>\n",
       "      <td>weekend edition stickied discussion thread dis...</td>\n",
       "      <td>0</td>\n",
       "    </tr>\n",
       "    <tr>\n",
       "      <th>2</th>\n",
       "      <td>think rivian would make 100 share</td>\n",
       "      <td>0.60</td>\n",
       "      <td>258</td>\n",
       "      <td>talk rivian saving vw california keeping tax c...</td>\n",
       "      <td>0</td>\n",
       "    </tr>\n",
       "    <tr>\n",
       "      <th>3</th>\n",
       "      <td>23hour party people u stock may soon trade nea...</td>\n",
       "      <td>0.92</td>\n",
       "      <td>162</td>\n",
       "      <td>23hour party people u stock may soon trade nea...</td>\n",
       "      <td>1</td>\n",
       "    </tr>\n",
       "    <tr>\n",
       "      <th>4</th>\n",
       "      <td>thought buying brbk month instead dcaing sp</td>\n",
       "      <td>0.80</td>\n",
       "      <td>51</td>\n",
       "      <td>anyone thought buying brbk month one instead u...</td>\n",
       "      <td>0</td>\n",
       "    </tr>\n",
       "  </tbody>\n",
       "</table>\n",
       "</div>"
      ],
      "text/plain": [
       "                                               Title  Upvote Ratio  \\\n",
       "0  rstocks daily discussion fundamental friday no...          0.94   \n",
       "1    rstocks weekend discussion saturday nov 30 2024          1.00   \n",
       "2                  think rivian would make 100 share          0.60   \n",
       "3  23hour party people u stock may soon trade nea...          0.92   \n",
       "4        thought buying brbk month instead dcaing sp          0.80   \n",
       "\n",
       "   Number of Comments                                            Content  \\\n",
       "0                 477  daily discussion anything stock related fine t...   \n",
       "1                   9  weekend edition stickied discussion thread dis...   \n",
       "2                 258  talk rivian saving vw california keeping tax c...   \n",
       "3                 162  23hour party people u stock may soon trade nea...   \n",
       "4                  51  anyone thought buying brbk month one instead u...   \n",
       "\n",
       "   Stock_Movement  \n",
       "0               1  \n",
       "1               0  \n",
       "2               0  \n",
       "3               1  \n",
       "4               0  "
      ]
     },
     "execution_count": 125,
     "metadata": {},
     "output_type": "execute_result"
    }
   ],
   "source": [
    "df.head()"
   ]
  },
  {
   "cell_type": "code",
   "execution_count": 126,
   "metadata": {},
   "outputs": [
    {
     "data": {
      "text/plain": [
       "Stock_Movement\n",
       "0    118\n",
       "1     54\n",
       "Name: count, dtype: int64"
      ]
     },
     "execution_count": 126,
     "metadata": {},
     "output_type": "execute_result"
    }
   ],
   "source": [
    "df['Stock_Movement'].value_counts()"
   ]
  },
  {
   "cell_type": "markdown",
   "metadata": {},
   "source": [
    "#### Train Test Split"
   ]
  },
  {
   "cell_type": "code",
   "execution_count": 127,
   "metadata": {},
   "outputs": [
    {
     "data": {
      "text/plain": [
       "((137, 2), (35, 2), (137,), (35,))"
      ]
     },
     "execution_count": 127,
     "metadata": {},
     "output_type": "execute_result"
    }
   ],
   "source": [
    "from sklearn.model_selection import train_test_split\n",
    "# Define features (X) and target (y) for the train-test split\n",
    "X = df[['Content', 'Title']]  # Features: text-based columns\n",
    "y = df['Stock_Movement']     # Target: binary column created earlier\n",
    "\n",
    "# Perform train-test split\n",
    "X_train, X_test, y_train, y_test = train_test_split(X, y, test_size=0.2, random_state=42, stratify=y)\n",
    "\n",
    "# Display the shapes of the resulting datasets\n",
    "X_train.shape, X_test.shape, y_train.shape, y_test.shape\n"
   ]
  },
  {
   "cell_type": "code",
   "execution_count": 131,
   "metadata": {},
   "outputs": [],
   "source": [
    "# Combine 'Content' and 'Title' into a single text column\n",
    "X_train_combined = X_train['Content'] + \" \" + X_train['Title']\n",
    "X_test_combined = X_test['Content'] + \" \" + X_test['Title']\n",
    "\n"
   ]
  },
  {
   "cell_type": "code",
   "execution_count": 132,
   "metadata": {},
   "outputs": [
    {
     "name": "stdout",
     "output_type": "stream",
     "text": [
      "X_train_tfidf shape: (137, 5253)\n",
      "X_test_tfidf shape: (35, 5253)\n"
     ]
    }
   ],
   "source": [
    "from sklearn.feature_extraction.text import TfidfVectorizer\n",
    "\n",
    "# Initialize the vectorizer\n",
    "tfidf = TfidfVectorizer()\n",
    "\n",
    "# Fit and transform the training data, and transform the testing data\n",
    "X_train_tfidf = tfidf.fit_transform(X_train_combined)\n",
    "X_test_tfidf = tfidf.transform(X_test_combined)\n",
    "\n",
    "# Check the shapes of the resulting matrices\n",
    "print(\"X_train_tfidf shape:\", X_train_tfidf.shape)\n",
    "print(\"X_test_tfidf shape:\", X_test_tfidf.shape)\n"
   ]
  },
  {
   "cell_type": "code",
   "execution_count": 133,
   "metadata": {},
   "outputs": [],
   "source": [
    "from sklearn.feature_extraction.text import CountVectorizer\n",
    "bow=CountVectorizer()\n",
    "X_train_bow = bow.fit_transform(X_train_combined)\n",
    "X_test_bow = bow.transform(X_test_combined)\n"
   ]
  },
  {
   "cell_type": "code",
   "execution_count": 134,
   "metadata": {},
   "outputs": [
    {
     "data": {
      "text/plain": [
       "(137, 5253)"
      ]
     },
     "execution_count": 134,
     "metadata": {},
     "output_type": "execute_result"
    }
   ],
   "source": [
    "X_train_bow.shape"
   ]
  },
  {
   "cell_type": "code",
   "execution_count": 140,
   "metadata": {},
   "outputs": [
    {
     "name": "stdout",
     "output_type": "stream",
     "text": [
      "[[24  0]\n",
      " [11  0]]\n",
      "Accuracy for tfidf: 0.6857142857142857\n"
     ]
    }
   ],
   "source": [
    "\n",
    "from sklearn.naive_bayes import MultinomialNB\n",
    "from sklearn.metrics import accuracy_score\n",
    "from sklearn.metrics import confusion_matrix\n",
    "\n",
    "# Initialize the model\n",
    "model = MultinomialNB()\n",
    "\n",
    "# Train the model\n",
    "model.fit(X_train_tfidf, y_train)\n",
    "\n",
    "# Make predictions\n",
    "y_pred_tfidf = model.predict(X_test_tfidf)\n",
    "\n",
    "# Confusion matrix\n",
    "print(confusion_matrix(y_test,y_pred_tfidf))\n",
    "\n",
    "# Evaluate the model\n",
    "print(\"Accuracy for tfidf:\", accuracy_score(y_test, y_pred_tfidf))\n"
   ]
  },
  {
   "cell_type": "code",
   "execution_count": 141,
   "metadata": {},
   "outputs": [
    {
     "name": "stdout",
     "output_type": "stream",
     "text": [
      "[[21  3]\n",
      " [ 7  4]]\n",
      "Accuracy for BOW: 0.7142857142857143\n"
     ]
    }
   ],
   "source": [
    "from sklearn.naive_bayes import MultinomialNB\n",
    "from sklearn.metrics import accuracy_score\n",
    "\n",
    "# Initialize the model\n",
    "model = MultinomialNB()\n",
    "\n",
    "# Train the model\n",
    "model.fit(X_train_bow, y_train)\n",
    "\n",
    "# Make predictions\n",
    "y_pred_bow = model.predict(X_test_bow)\n",
    "\n",
    "# Confusion Matrix\n",
    "print(confusion_matrix(y_test,y_pred_bow))\n",
    "\n",
    "# Evaluate the model\n",
    "print(\"Accuracy for BOW:\", accuracy_score(y_test, y_pred_bow))"
   ]
  }
 ],
 "metadata": {
  "kernelspec": {
   "display_name": "base",
   "language": "python",
   "name": "python3"
  },
  "language_info": {
   "codemirror_mode": {
    "name": "ipython",
    "version": 3
   },
   "file_extension": ".py",
   "mimetype": "text/x-python",
   "name": "python",
   "nbconvert_exporter": "python",
   "pygments_lexer": "ipython3",
   "version": "3.12.4"
  }
 },
 "nbformat": 4,
 "nbformat_minor": 2
}
